{
 "cells": [
  {
   "cell_type": "code",
   "execution_count": 4,
   "metadata": {},
   "outputs": [],
   "source": [
    "import cv2\n",
    "import os\n",
    "cap=cv2.VideoCapture(0)\n",
    "while cap.isOpened():\n",
    "    status,frame=cap.read()\n",
    "    cv2.imshow(\"img\",frame)\n",
    "    if cv2.waitKey(1)& 0xFF == ord('c'):\n",
    "        cv2.imwrite('image.jpg',frame)\n",
    "        os.system('sshpass -p dhakkan scp image.jpg adarsh@52.66.112.50:') \n",
    "        break\n",
    "cv2.destroyAllWindows()\n",
    "cap.release()"
   ]
  },
  {
   "cell_type": "code",
   "execution_count": null,
   "metadata": {},
   "outputs": [],
   "source": []
  }
 ],
 "metadata": {
  "kernelspec": {
   "display_name": "Python 3",
   "language": "python",
   "name": "python3"
  },
  "language_info": {
   "codemirror_mode": {
    "name": "ipython",
    "version": 3
   },
   "file_extension": ".py",
   "mimetype": "text/x-python",
   "name": "python",
   "nbconvert_exporter": "python",
   "pygments_lexer": "ipython3",
   "version": "3.6.3"
  }
 },
 "nbformat": 4,
 "nbformat_minor": 2
}
