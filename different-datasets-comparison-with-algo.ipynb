{
 "cells": [
  {
   "cell_type": "code",
   "execution_count": 5,
   "metadata": {},
   "outputs": [
    {
     "name": "stderr",
     "output_type": "stream",
     "text": [
      "No handles with labels found to put in legend.\n"
     ]
    },
    {
     "name": "stdout",
     "output_type": "stream",
     "text": [
      "[ 68.  48.  64. 178.  63.  43.  25. 163.  59.  59. 109.  69. 115.  84.\n",
      "  52.  49.  91.  65. 150. 257. 121.  71.  81. 166.  59.  71. 127. 166.\n",
      " 174.  53.  64. 121.  53.  49. 220.  47.  49. 128.  71. 268.  70.  97.\n",
      "  42. 163.  91.  31.  83. 131.  39.  59.  44.  87. 220.  63. 127.  53.\n",
      " 198. 131. 174.  44.  71.  97.  71. 101.  39.  59.  55.  88. 173.  51.\n",
      " 118. 101.  39.  97. 144. 138.  25.  49. 118. 245. 144.  69. 134. 121.\n",
      " 128.  64.  59.  42. 155.  93.  42.  65.  68.  37.  53.  81.  39.  69.\n",
      "  48. 150.  48.  84. 163.  57.  43.  77.  97.  44. 122.  81.  94. 123.\n",
      "  96. 122. 257.  49. 163. 127. 115. 140. 131.  79. 107.  37.  59.  55.\n",
      "  43.  65. 178.  55. 118. 163.  48.  53. 123.  31.  59. 150. 144. 167.\n",
      "  60.  60.  93. 121.  43.  59.  81.  59.  79. 173.  43.  39. 277. 222.\n",
      "  42. 113. 246.  53. 131. 101. 139. 198. 113.  31. 164. 121.  47.  59.\n",
      "  39. 275.  61. 222. 198.  49. 235. 134.  60. 108.  65. 104.  25. 155.\n",
      " 150.  44.  53. 277.  53. 150. 144. 174.  94.  53.  60.  59. 150. 167.\n",
      " 150.  85. 150.  48.  61.  64.  42.  48.  59.  95.  49.  43.  84.  53.\n",
      " 208. 246.  65.  43.  69.  64. 138. 245.  96.  78. 121.]\n",
      "[123.  97.  96. 235. 115. 181. 185. 163. 144.  59. 121.  86. 150. 122.\n",
      " 259.  39.  55.  84. 233. 189. 164. 200. 131. 166.  51.  88.  78.  85.\n",
      " 233. 183. 288. 121. 127.  39. 279.  43. 277.  69.  53. 268. 145. 178.\n",
      " 167. 217. 183. 156. 178. 233.  53.  59. 132. 128. 310.  63.  74.  97.\n",
      " 189. 124. 170.  74.  49. 235. 276. 233.  77. 158.  71.  39. 131. 214.\n",
      " 178. 233. 158.  48. 167. 168. 150. 128. 281. 277.  65.  64. 170. 275.\n",
      " 196. 107. 128. 178.  94. 198. 131.  90. 164.  49. 128. 118.  31. 134.\n",
      " 276. 220.  97. 134. 217. 158.  71. 202. 196.  88. 121. 200.  94. 123.\n",
      " 275. 163. 131.  88. 275. 196. 134. 104. 275. 200. 131.  97.  65.  25.\n",
      "  71.  43. 233.  31. 118. 178.  59. 127. 123.  90.  85. 297. 123. 233.\n",
      "  48.  59. 131. 164.  49.  65. 186. 184.  44. 189.  71. 128. 268. 275.\n",
      " 265.  59. 275. 170. 336.  49. 123. 189.  49.  64. 121.  91.  49.  65.\n",
      "  96. 275. 202. 346.  78. 158. 245.  85.  88. 200.  55.  53.  59. 296.\n",
      " 217. 127. 104. 155.  53. 346. 248. 178. 131.  71.  63.  71. 167. 275.\n",
      " 265. 310. 277.  59. 104. 257. 200.  92.  53.  31.  87.  74. 150.  94.\n",
      " 346.  78.  90.  95. 181.  83. 137. 217. 288.  78. 222.]\n",
      "[200.  59. 200.  53.  59.  55.  59. 200. 200.  59. 200.  55.  53. 200.\n",
      " 200.  59. 200.  53.  53. 200. 200.  53.  53.  53.  59.  53.  53. 200.\n",
      "  53.  53. 200. 200.  53.  59. 200.  53.  59.  59.  53. 200.  53.  53.\n",
      "  53.  53. 200.  59. 200. 200.  53.  59.  53.  59. 200.  59.  53.  59.\n",
      " 200.  53.  53.  53.  53.  53.  53.  53.  59.  59.  55.  59. 200.  53.\n",
      "  53.  53.  59.  59.  53.  53.  55.  59.  53. 200.  55.  59.  53. 200.\n",
      " 200. 200.  59.  53.  53.  53.  53.  59.  53.  59.  53.  53.  55.  53.\n",
      " 200. 200.  59. 200. 200.  59.  55.  53.  53.  53. 200.  53.  53.  53.\n",
      " 200. 200. 200.  59. 200.  53. 200.  55.  53. 200.  53.  59.  55. 200.\n",
      "  55.  59. 200.  55.  53.  53.  59.  53.  53.  59. 200. 200.  53. 200.\n",
      "  59. 200. 200. 200.  55.  59.  53. 200.  53. 200.  55.  53. 200. 200.\n",
      "  53. 200. 200.  59. 200.  55. 200. 200. 200.  55. 200. 200.  53.  59.\n",
      "  53. 200.  53. 200.  53.  59.  53.  59.  59.  53.  53. 200. 200. 200.\n",
      "  53.  53.  53. 200.  55.  53.  53.  53.  53.  53.  59.  59.  53. 200.\n",
      "  53.  53. 200.  59.  53. 200.  53.  59.  59.  55.  59.  55. 200.  53.\n",
      " 200. 200.  59.  55.  55. 200. 200. 200.  53. 200. 200.]\n",
      "0.0\n",
      "0.00904977375565611\n",
      "0.0\n"
     ]
    },
    {
     "data": {
      "text/plain": [
       "<matplotlib.legend.Legend at 0x7fbe5ebefd68>"
      ]
     },
     "execution_count": 5,
     "metadata": {},
     "output_type": "execute_result"
    },
    {
     "data": {
      "image/png": "[encoded data removed]",
      "text/plain": [
       "<Figure size 432x288 with 1 Axes>"
      ]
     },
     "metadata": {},
     "output_type": "display_data"
    }
   ],
   "source": [
    "from sklearn.datasets import load_diabetes\n",
    "from sklearn.model_selection import train_test_split\n",
    "from sklearn.neighbors import KNeighborsClassifier\n",
    "from sklearn.tree import DecisionTreeClassifier \n",
    "from sklearn.svm import SVC\n",
    "from sklearn import tree\n",
    "\n",
    "#load iris\n",
    "dia=load_diabetes()\n",
    "#spilitting the data\n",
    "train_data,test_data,train_target,test_target=train_test_split(dia.data,dia.target,test_size=0.5)\n",
    "#knn classifier called\n",
    "knn=KNeighborsClassifier(n_neighbors=3)\n",
    "#clf classifier called\n",
    "clf=tree.DecisionTreeClassifier()\n",
    "#SVC classifier called\n",
    "sclf=SVC()\n",
    "#training of knn and clf\n",
    "trainedknn=knn.fit(train_data,train_target)\n",
    "trainedclf=clf.fit(train_data,train_target)\n",
    "trainedsclf=sclf.fit(train_data,train_target)\n",
    "#prediction of both algo\n",
    "predictknn=trainedknn.predict(test_data)\n",
    "predictclf=trainedclf.predict(test_data)\n",
    "predictsclf=trainedsclf.predict(test_data)\n",
    "#printing the both prediction\n",
    "print(predictknn)\n",
    "print(predictclf)\n",
    "print(predictsclf)\n",
    "#accuracy test\n",
    "from sklearn.metrics import accuracy_score\n",
    "accknn=accuracy_score(predictknn,test_target)\n",
    "accclf=accuracy_score(predictclf,test_target)\n",
    "accsclf=accuracy_score(predictsclf,test_target)\n",
    "#printing accuracy\n",
    "print(accknn)\n",
    "print(accclf)\n",
    "print(accsclf)\n",
    "#plotting the graph\n",
    "import matplotlib.pyplot as plt\n",
    "y1=[accknn,accclf,accsclf]\n",
    "x1=[\"knn\",\"dclf\",\"sclf\"]\n",
    "plt.xlabel(\"Different classifiers\")\n",
    "plt.ylabel(\"Accuracy\")\n",
    "plt.grid(color=\"red\")\n",
    "plt.title(\"graph between two algo knn , tree classifier and SVC classifier\")\n",
    "plt.bar(x1,y1)\n",
    "plt.legend()"
   ]
  },
  {
   "cell_type": "code",
   "execution_count": 6,
   "metadata": {},
   "outputs": [
    {
     "name": "stderr",
     "output_type": "stream",
     "text": [
      "No handles with labels found to put in legend.\n"
     ]
    },
    {
     "name": "stdout",
     "output_type": "stream",
     "text": [
      "[0 1 1 0 0 0 0 1 0 1 2 0 1 2 0 1 1 2 0 0 2 2 2 1 2 2 2 0 1 0 1 2 0 2 0 1 0\n",
      " 0 0 0 0 1 2 1 1 0 2 1 0 0 0 1 1 2 1 1 1 0 2 1 1 1 1 1 2 0 1 0 2 2 0 2 2 1\n",
      " 2 1 1 2 0 1 0 2 2 1 1 2 0 1 1]\n",
      "[0 2 2 0 0 0 0 1 0 1 2 0 1 2 0 1 1 0 0 0 1 2 2 1 2 2 2 0 1 0 1 1 0 1 2 1 0\n",
      " 0 0 0 0 1 1 2 1 0 2 2 2 0 0 2 2 2 1 1 1 0 1 1 1 0 2 2 1 0 2 2 1 1 0 1 2 2\n",
      " 2 2 1 2 0 2 0 1 1 1 1 2 0 1 1]\n",
      "[0 1 1 1 1 1 1 1 1 1 1 1 1 1 1 1 1 1 1 1 1 1 1 1 1 1 1 1 1 1 1 1 1 1 1 1 0\n",
      " 1 1 0 1 1 1 1 1 1 1 1 1 1 1 2 1 1 1 1 1 0 1 1 1 1 1 1 1 1 1 1 1 1 1 1 1 1\n",
      " 1 1 1 1 1 1 1 1 1 1 1 1 1 1 1]\n",
      "0.6853932584269663\n",
      "0.898876404494382\n",
      "0.4943820224719101\n"
     ]
    },
    {
     "data": {
      "text/plain": [
       "<matplotlib.legend.Legend at 0x7fbe5ebcc9e8>"
      ]
     },
     "execution_count": 6,
     "metadata": {},
     "output_type": "execute_result"
    },
    {
     "data": {
      "image/png": "[encoded data removed]",
      "text/plain": [
       "<Figure size 432x288 with 1 Axes>"
      ]
     },
     "metadata": {},
     "output_type": "display_data"
    }
   ],
   "source": [
    "from sklearn.datasets import load_wine\n",
    "from sklearn.model_selection import train_test_split\n",
    "from sklearn.neighbors import KNeighborsClassifier\n",
    "from sklearn.tree import DecisionTreeClassifier \n",
    "from sklearn.svm import SVC\n",
    "from sklearn import tree\n",
    "\n",
    "#load iris\n",
    "wine=load_wine()\n",
    "#spilitting the data\n",
    "train_data,test_data,train_target,test_target=train_test_split(wine.data,wine.target,test_size=0.5)\n",
    "#knn classifier called\n",
    "knn=KNeighborsClassifier(n_neighbors=3)\n",
    "#clf classifier called\n",
    "clf=tree.DecisionTreeClassifier()\n",
    "#SVC classifier called\n",
    "sclf=SVC()\n",
    "#training of knn and clf\n",
    "trainedknn=knn.fit(train_data,train_target)\n",
    "trainedclf=clf.fit(train_data,train_target)\n",
    "trainedsclf=sclf.fit(train_data,train_target)\n",
    "#prediction of both algo\n",
    "predictknn=trainedknn.predict(test_data)\n",
    "predictclf=trainedclf.predict(test_data)\n",
    "predictsclf=trainedsclf.predict(test_data)\n",
    "#printing the both prediction\n",
    "print(predictknn)\n",
    "print(predictclf)\n",
    "print(predictsclf)\n",
    "#accuracy test\n",
    "from sklearn.metrics import accuracy_score\n",
    "accknn=accuracy_score(predictknn,test_target)\n",
    "accclf=accuracy_score(predictclf,test_target)\n",
    "accsclf=accuracy_score(predictsclf,test_target)\n",
    "#printing accuracy\n",
    "print(accknn)\n",
    "print(accclf)\n",
    "print(accsclf)\n",
    "#plotting the graph\n",
    "import matplotlib.pyplot as plt\n",
    "y1=[accknn,accclf,accsclf]\n",
    "x1=[\"knn\",\"dclf\",\"sclf\"]\n",
    "plt.xlabel(\"Different classifiers\")\n",
    "plt.ylabel(\"Accuracy\")\n",
    "plt.grid(color=\"red\")\n",
    "plt.title(\"graph between two algo knn , tree classifier and SVC classifier\")\n",
    "plt.bar(x1,y1)\n",
    "plt.legend()"
   ]
  },
  {
   "cell_type": "code",
   "execution_count": 7,
   "metadata": {},
   "outputs": [
    {
     "name": "stderr",
     "output_type": "stream",
     "text": [
      "No handles with labels found to put in legend.\n"
     ]
    },
    {
     "name": "stdout",
     "output_type": "stream",
     "text": [
      "[0 2 3 8 3 2 2 4 8 7 6 1 5 3 1 8 2 8 6 3 1 6 1 8 7 9 2 7 5 3 6 8 6 8 8 1 1\n",
      " 0 1 8 1 9 8 8 7 9 1 5 1 3 2 0 5 1 4 2 4 6 5 9 6 7 1 8 3 0 2 1 7 8 3 1 3 6\n",
      " 7 5 9 0 2 6 4 5 8 5 8 3 9 1 3 2 8 5 6 9 5 0 3 7 7 6 0 3 7 8 3 7 6 0 1 5 9\n",
      " 2 4 1 4 3 4 8 4 7 6 1 6 7 3 0 2 9 2 2 1 3 5 1 6 6 9 4 2 7 4 7 5 7 2 3 6 9\n",
      " 9 1 4 4 1 4 9 4 2 7 2 3 8 7 9 2 6 9 5 6 0 0 2 4 2 5 3 7 9 6 0 6 3 2 4 5 0\n",
      " 2 6 8 2 1 6 2 0 3 7 5 8 6 5 3 5 7 8 5 1 2 9 6 3 2 1 8 5 4 8 6 0 8 4 7 8 6\n",
      " 9 1 2 0 9 7 5 2 4 0 6 5 2 4 4 5 9 8 9 9 0 1 7 5 2 6 7 3 3 1 9 0 7 3 1 2 6\n",
      " 5 8 0 1 1 3 6 3 9 0 5 6 8 2 0 0 4 7 9 3 7 7 1 7 0 0 9 6 2 8 3 4 5 6 3 0 8\n",
      " 0 8 0 4 1 7 4 9 7 6 6 2 9 8 3 0 0 2 0 3 0 3 6 3 9 5 0 9 3 5 4 2 7 0 3 2 0\n",
      " 1 4 3 7 3 3 7 4 3 4 4 3 9 6 2 2 6 1 1 3 3 3 3 7 6 3 1 1 2 1 4 5 0 5 4 4 2\n",
      " 1 2 1 8 9 3 7 9 4 8 2 1 4 0 1 5 5 6 2 4 6 7 7 3 0 3 9 2 4 9 2 8 3 0 6 4 4\n",
      " 5 4 5 2 5 4 7 1 4 6 0 6 7 4 6 1 5 6 8 9 7 4 1 8 5 7 5 2 4 9 2 8 1 2 2 3 6\n",
      " 8 6 1 4 5 2 9 6 7 5 5 0 4 3 8 6 6 5 4 4 5 6 6 2 6 0 7 3 7 7 4 7 9 9 8 1 8\n",
      " 4 8 1 0 6 2 8 9 2 0 0 0 7 0 9 8 3 7 4 5 2 1 5 5 3 6 9 3 1 0 0 2 2 3 6 9 2\n",
      " 0 3 1 1 6 5 6 5 4 8 5 7 2 4 9 6 9 1 9 9 1 1 8 7 3 7 5 9 1 1 5 9 1 2 2 0 9\n",
      " 4 3 2 3 1 2 5 3 3 4 6 3 9 1 9 6 7 8 2 4 7 2 6 9 1 5 1 0 8 6 7 0 3 7 5 4 4\n",
      " 6 3 3 7 1 1 8 8 5 4 6 1 0 0 3 6 1 2 3 2 2 2 2 5 0 8 9 4 2 2 5 9 9 8 2 4 1\n",
      " 9 3 0 3 5 5 8 4 2 0 8 4 1 7 9 6 1 3 8 4 3 5 2 4 5 6 2 9 5 9 0 4 6 9 2 0 9\n",
      " 6 6 7 6 4 1 5 5 0 2 6 8 6 2 0 0 8 6 2 0 0 3 6 9 7 9 3 0 5 0 9 9 6 7 9 9 4\n",
      " 3 7 3 0 0 5 9 7 1 5 2 7 7 7 4 2 6 9 6 4 7 0 6 7 1 3 4 2 6 5 5 1 1 6 9 5 7\n",
      " 5 1 9 6 0 0 3 1 7 9 7 6 1 2 9 3 0 6 2 0 0 1 4 9 0 4 0 9 6 5 0 8 2 7 3 7 3\n",
      " 5 4 7 2 2 1 8 1 7 6 4 0 7 4 6 9 5 0 3 1 4 5 6 5 9 7 8 3 0 6 8 0 5 4 3 3 5\n",
      " 1 0 8 3 5 0 0 7 8 8 8 7 1 8 4 5 0 7 4 1 9 4 9 8 4 9 1 0 7 6 9 4 3 7 8 1 2\n",
      " 7 8 6 2 3 6 6 6 1 8 0 0 3 6 9 9 4 8 7 2 2 7 2 8 1 6 7 3 0 6 1 2 9 3 7 9 0\n",
      " 9 3 7 5 9 1 9 9 7 1 2]\n",
      "[0 2 3 8 3 2 2 4 8 7 8 1 5 1 1 8 2 8 6 3 1 6 1 8 8 9 2 7 9 3 6 8 6 8 8 1 1\n",
      " 0 1 8 1 9 8 8 7 8 1 5 1 3 5 0 5 1 4 2 4 6 5 9 6 7 1 6 3 0 2 8 7 2 3 1 2 6\n",
      " 7 5 3 0 2 6 4 5 6 9 3 8 9 1 3 2 8 5 6 9 0 0 3 7 7 6 0 1 7 8 5 7 6 0 1 5 8\n",
      " 2 4 1 4 3 9 6 4 7 6 9 6 7 3 0 2 9 3 2 1 3 5 1 6 6 9 4 2 7 4 7 5 7 2 3 6 9\n",
      " 9 1 4 4 1 0 0 4 2 7 2 3 9 8 9 2 6 9 5 6 0 0 2 4 1 9 3 7 9 6 0 8 3 3 4 5 0\n",
      " 2 6 8 2 2 6 2 0 3 7 5 8 6 5 3 5 7 8 5 1 2 7 6 3 2 1 8 7 4 8 6 0 9 4 1 8 6\n",
      " 9 1 2 0 5 7 7 2 4 0 6 5 2 4 4 5 9 8 9 9 0 1 7 5 2 6 7 3 3 1 9 0 7 3 1 2 6\n",
      " 5 8 5 1 1 3 6 3 9 0 5 6 3 2 0 0 4 7 9 3 7 7 1 7 0 0 9 1 8 8 5 4 7 6 3 0 8\n",
      " 0 8 0 4 1 8 4 9 7 6 6 2 9 8 3 0 0 2 0 8 0 3 6 3 1 5 0 9 3 5 5 2 7 0 8 2 0\n",
      " 1 4 9 7 3 3 7 4 3 4 4 3 9 6 2 2 6 1 1 3 3 3 3 7 6 3 1 1 2 1 4 7 0 7 4 5 2\n",
      " 1 2 1 7 9 3 7 3 1 6 2 8 4 0 1 5 5 6 2 4 6 8 7 3 0 8 9 2 4 9 2 8 3 0 7 4 4\n",
      " 5 4 5 1 5 4 7 1 7 1 0 6 7 4 6 2 5 6 8 9 2 4 8 1 5 7 5 6 9 9 2 2 1 2 2 3 6\n",
      " 1 6 1 4 5 2 9 6 7 5 4 0 4 3 3 6 6 5 4 4 5 6 6 2 6 0 7 3 7 7 4 7 9 5 1 1 8\n",
      " 4 3 1 0 6 2 6 9 2 0 0 5 2 0 9 8 9 7 4 3 2 9 5 5 2 6 8 3 1 0 0 2 2 3 6 9 2\n",
      " 0 7 1 1 6 5 6 5 4 8 5 7 2 4 9 6 8 1 1 9 8 1 7 7 3 7 5 9 5 1 5 9 1 3 2 0 9\n",
      " 4 3 3 3 8 2 5 3 3 4 6 3 9 1 9 8 7 8 2 4 7 2 6 9 1 5 1 8 8 6 7 0 3 7 8 4 4\n",
      " 6 3 3 7 1 2 8 7 5 4 6 8 0 0 3 6 1 2 9 2 2 2 2 6 0 5 9 4 2 2 5 9 7 8 2 8 1\n",
      " 9 3 0 3 1 5 8 4 3 0 8 4 8 8 9 6 1 3 8 4 3 5 8 4 5 6 2 9 5 9 0 4 6 1 2 0 9\n",
      " 6 6 7 1 4 8 5 5 0 2 6 8 6 2 0 0 8 2 2 0 0 3 6 9 7 9 1 0 5 0 9 2 6 2 9 9 4\n",
      " 3 7 3 0 0 5 9 7 1 5 3 7 7 7 9 2 6 9 6 6 7 0 6 7 1 3 4 2 6 5 5 1 1 6 9 6 3\n",
      " 5 1 1 6 0 0 3 1 7 8 7 1 1 2 9 3 0 6 1 0 0 1 4 1 0 4 0 9 6 5 0 8 2 7 1 7 3\n",
      " 5 4 7 1 1 1 8 1 7 4 4 0 0 4 6 9 5 0 3 1 4 5 6 6 9 7 6 3 0 6 8 0 7 4 3 3 5\n",
      " 1 0 6 3 5 0 0 7 5 8 8 7 1 8 4 5 5 9 4 3 9 4 7 8 9 9 1 0 7 1 6 4 3 7 8 1 2\n",
      " 7 8 6 2 9 6 6 6 9 9 0 0 3 6 9 9 4 3 7 2 2 7 2 8 1 4 7 3 0 6 8 2 9 8 8 9 0\n",
      " 9 3 7 3 1 1 9 9 8 1 2]\n",
      "[0 5 5 5 5 5 5 5 8 5 5 5 5 5 5 5 5 5 5 5 5 5 1 5 5 9 5 5 5 5 5 8 5 5 5 5 5\n",
      " 5 1 5 5 5 5 5 7 5 5 5 5 5 5 0 5 5 4 5 5 5 5 5 5 5 5 5 5 5 5 5 5 8 5 5 5 5\n",
      " 5 5 5 5 5 5 5 5 5 5 5 5 5 5 5 5 5 5 5 5 5 5 5 5 5 5 5 5 5 5 5 5 5 5 1 5 5\n",
      " 5 5 1 4 5 5 5 5 7 5 5 5 5 5 0 5 5 5 5 5 5 5 5 5 5 5 5 5 5 5 5 5 7 5 3 5 5\n",
      " 5 5 5 5 1 5 5 5 5 7 5 5 5 5 5 5 5 5 5 5 0 5 5 5 5 5 5 5 5 5 5 5 5 5 5 5 5\n",
      " 5 5 5 5 5 5 5 5 5 7 5 5 5 5 5 5 5 8 5 5 5 5 5 5 5 5 5 5 5 5 5 5 5 5 5 5 6\n",
      " 5 1 5 5 5 5 5 5 5 5 5 5 5 5 5 5 5 5 5 5 5 5 5 5 5 5 5 5 5 5 5 5 5 5 5 5 5\n",
      " 5 5 5 1 1 5 5 5 5 0 5 6 5 5 5 5 5 5 5 5 7 5 1 5 5 5 5 5 5 5 5 5 5 5 5 5 8\n",
      " 0 5 5 5 5 5 5 5 5 5 5 5 5 5 5 5 5 5 5 5 5 5 5 5 5 5 5 5 5 5 5 5 7 0 5 5 5\n",
      " 5 5 5 5 5 5 5 5 5 5 5 5 5 6 5 5 5 5 5 5 5 5 5 5 5 5 1 5 5 1 5 5 5 5 4 5 5\n",
      " 1 5 5 5 5 5 5 5 5 5 5 5 5 5 5 5 5 5 5 5 5 5 5 3 5 5 5 5 5 5 5 5 5 5 5 4 5\n",
      " 5 5 5 5 5 5 5 5 5 5 0 5 5 5 5 5 5 6 5 5 5 5 5 5 5 5 5 5 5 5 5 5 5 5 5 3 5\n",
      " 5 5 1 5 5 5 5 5 5 5 5 5 4 5 5 6 6 5 4 5 5 5 5 5 5 0 7 5 5 5 4 5 5 5 5 1 5\n",
      " 5 5 5 5 5 5 5 5 5 5 5 5 5 5 5 5 5 5 5 5 5 5 5 5 5 5 5 5 1 0 5 5 5 5 5 5 5\n",
      " 5 5 5 5 5 5 5 5 5 5 5 5 5 5 5 6 5 5 5 9 5 1 5 5 5 5 5 5 5 5 5 5 1 5 5 0 5\n",
      " 4 5 5 5 5 5 5 5 5 4 5 5 5 5 5 5 5 5 5 4 5 5 5 5 1 5 5 5 5 5 5 5 5 5 5 5 5\n",
      " 5 5 5 5 5 5 5 5 5 4 6 5 5 5 5 5 1 5 5 5 5 5 5 5 5 5 5 5 5 5 5 5 5 5 5 5 1\n",
      " 5 5 0 3 5 5 5 5 5 5 5 4 5 5 5 5 5 5 5 4 5 5 5 4 5 5 5 5 5 5 5 5 5 5 5 0 5\n",
      " 5 5 7 5 5 5 5 5 5 2 6 5 5 5 0 5 5 5 5 5 0 5 5 5 5 5 5 5 5 5 5 5 5 5 5 9 5\n",
      " 5 5 5 0 0 5 5 5 1 5 5 5 5 5 5 5 5 5 5 5 7 0 6 5 5 5 5 5 5 5 5 1 5 5 5 5 5\n",
      " 5 5 5 6 5 5 5 5 7 5 5 5 5 5 9 5 5 5 5 0 5 5 5 5 5 4 0 5 6 5 5 5 5 7 5 7 5\n",
      " 5 5 7 5 5 5 5 5 5 5 4 0 7 5 5 5 5 5 5 5 5 5 5 5 5 7 5 5 5 5 5 5 5 5 3 5 5\n",
      " 5 5 5 5 5 0 0 5 5 5 5 5 5 5 4 5 5 5 5 1 5 4 5 5 5 5 5 5 5 5 5 4 5 5 5 5 5\n",
      " 5 8 5 5 5 5 5 6 5 5 0 0 5 6 5 5 4 5 7 5 5 5 5 5 1 5 5 5 5 5 5 5 5 5 5 5 5\n",
      " 5 5 5 5 5 5 5 5 5 5 5]\n",
      "0.9844271412680756\n",
      "0.8309232480533927\n",
      "0.22024471635150167\n"
     ]
    },
    {
     "data": {
      "text/plain": [
       "<matplotlib.legend.Legend at 0x7fbe5ec39470>"
      ]
     },
     "execution_count": 7,
     "metadata": {},
     "output_type": "execute_result"
    },
    {
     "data": {
      "image/png": "[encoded data removed]",
      "text/plain": [
       "<Figure size 432x288 with 1 Axes>"
      ]
     },
     "metadata": {},
     "output_type": "display_data"
    }
   ],
   "source": [
    "from sklearn.datasets import load_digits\n",
    "from sklearn.model_selection import train_test_split\n",
    "from sklearn.neighbors import KNeighborsClassifier\n",
    "from sklearn.tree import DecisionTreeClassifier \n",
    "from sklearn.svm import SVC\n",
    "from sklearn import tree\n",
    "\n",
    "#load iris\n",
    "digit=load_digits()\n",
    "#spilitting the data\n",
    "train_data,test_data,train_target,test_target=train_test_split(digit.data,digit.target,test_size=0.5)\n",
    "#knn classifier called\n",
    "knn=KNeighborsClassifier(n_neighbors=3)\n",
    "#clf classifier called\n",
    "clf=tree.DecisionTreeClassifier()\n",
    "#SVC classifier called\n",
    "sclf=SVC()\n",
    "#training of knn and clf\n",
    "trainedknn=knn.fit(train_data,train_target)\n",
    "trainedclf=clf.fit(train_data,train_target)\n",
    "trainedsclf=sclf.fit(train_data,train_target)\n",
    "#prediction of both algo\n",
    "predictknn=trainedknn.predict(test_data)\n",
    "predictclf=trainedclf.predict(test_data)\n",
    "predictsclf=trainedsclf.predict(test_data)\n",
    "#printing the both prediction\n",
    "print(predictknn)\n",
    "print(predictclf)\n",
    "print(predictsclf)\n",
    "#accuracy test\n",
    "from sklearn.metrics import accuracy_score\n",
    "accknn=accuracy_score(predictknn,test_target)\n",
    "accclf=accuracy_score(predictclf,test_target)\n",
    "accsclf=accuracy_score(predictsclf,test_target)\n",
    "#printing accuracy\n",
    "print(accknn)\n",
    "print(accclf)\n",
    "print(accsclf)\n",
    "#plotting the graph\n",
    "import matplotlib.pyplot as plt\n",
    "y1=[accknn,accclf,accsclf]\n",
    "x1=[\"knn\",\"dclf\",\"svc\"]\n",
    "plt.xlabel(\"Different classifiers\")\n",
    "plt.ylabel(\"Accuracy\")\n",
    "plt.grid(color=\"red\")\n",
    "plt.title(\"graph between two algo knn , tree classifier and SVC classifier\")\n",
    "plt.bar(x1,y1)\n",
    "plt.legend()"
   ]
  },
  {
   "cell_type": "code",
   "execution_count": null,
   "metadata": {},
   "outputs": [],
   "source": []
  }
 ],
 "metadata": {
  "kernelspec": {
   "display_name": "Python 3",
   "language": "python",
   "name": "python3"
  },
  "language_info": {
   "codemirror_mode": {
    "name": "ipython",
    "version": 3
   },
   "file_extension": ".py",
   "mimetype": "text/x-python",
   "name": "python",
   "nbconvert_exporter": "python",
   "pygments_lexer": "ipython3",
   "version": "3.6.3"
  }
 },
 "nbformat": 4,
 "nbformat_minor": 2
}
