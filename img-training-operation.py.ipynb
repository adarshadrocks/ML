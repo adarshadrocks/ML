{
 "cells": [
  {
   "cell_type": "code",
   "execution_count": 12,
   "metadata": {},
   "outputs": [],
   "source": [
    "import cv2\n",
    "import numpy\n",
    "img=cv2.imread(\"cat.jpg\")\n",
    "#draw a line over image\n",
    "cv2.line(img,(0,0),(150,200),(0,0,255),4)\n",
    "#above (0,0)->starting point,(150,200)->ending point,(0,0,255)->color,4->line width\n",
    "#draw a rectangle over image\n",
    "cv2.rectangle(img,(81,26),(412,279),(200,100,0),8)\n",
    "#above the edges of rectangle are (100,100) & (150,150) and width of line is 2\n",
    "#draw a circle over image\n",
    "cv2.circle(img,(259,158),80,(130,120,0),2)\n",
    "#above center of circle is (100,100), and radius is 80 and width of line is 2\n",
    "cv2.imshow(\"window screen\",img)\n",
    "cv2.waitKey(0)\n",
    "cv2.destroyAllWindows()"
   ]
  },
  {
   "cell_type": "code",
   "execution_count": 26,
   "metadata": {},
   "outputs": [],
   "source": [
    "#combine two image with opacity\n",
    "img1 = cv2.imread('cat.jpg')\n",
    "img2 = cv2.imread('cat2.jpg')\n",
    "\n",
    "dst = cv2.addWeighted(img1,0.2,img2,0.3,1)\n",
    "\n",
    "cv2.imshow(\"dst\",dst)\n",
    "cv2.waitKey(0)\n",
    "cv2.destroyAllWindows()"
   ]
  },
  {
   "cell_type": "code",
   "execution_count": 7,
   "metadata": {},
   "outputs": [
    {
     "data": {
      "text/plain": [
       "True"
      ]
     },
     "execution_count": 7,
     "metadata": {},
     "output_type": "execute_result"
    }
   ],
   "source": [
    "#resize image\n",
    "import cv2\n",
    "img1 = cv2.imread('cat1.jpg')\n",
    "img1.shape\n",
    "img3=cv2.resize(img1,(100,20))\n",
    "cv2.imwrite(\"cat4.jpg\",img3)\n",
    "#cv2.imshow(\"dst\",img1)\n",
    "#cv2.waitKey(0)\n",
    "#cv2.destroyAllWindows()"
   ]
  },
  {
   "cell_type": "code",
   "execution_count": null,
   "metadata": {},
   "outputs": [],
   "source": []
  }
 ],
 "metadata": {
  "kernelspec": {
   "display_name": "Python 3",
   "language": "python",
   "name": "python3"
  },
  "language_info": {
   "codemirror_mode": {
    "name": "ipython",
    "version": 3
   },
   "file_extension": ".py",
   "mimetype": "text/x-python",
   "name": "python",
   "nbconvert_exporter": "python",
   "pygments_lexer": "ipython3",
   "version": "3.6.3"
  }
 },
 "nbformat": 4,
 "nbformat_minor": 2
}
