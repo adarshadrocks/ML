{
 "cells": [
  {
   "cell_type": "code",
   "execution_count": 1,
   "metadata": {},
   "outputs": [
    {
     "name": "stdout",
     "output_type": "stream",
     "text": [
      "camera is ready to take picture\n"
     ]
    }
   ],
   "source": [
    "#!/usr/bin/python3\n",
    "import cv2\n",
    "capture = cv2.VideoCapture(0)\n",
    "if capture.isOpened() :\n",
    "        print (\"camera is ready to take picture\")\n",
    "        status,frame=capture.read()\n",
    "        cv2.imshow(\"frame1\",frame)\n",
    "        cv2.waitKey(0)\n",
    "        cv2.destroyAllWindows()\n",
    "        capture.release()\n",
    "        \n",
    "else:\n",
    "        print (\"check your camera drivers with os\")\n",
    "        "
   ]
  },
  {
   "cell_type": "code",
   "execution_count": null,
   "metadata": {},
   "outputs": [],
   "source": []
  }
 ],
 "metadata": {
  "kernelspec": {
   "display_name": "Python 3",
   "language": "python",
   "name": "python3"
  },
  "language_info": {
   "codemirror_mode": {
    "name": "ipython",
    "version": 3
   },
   "file_extension": ".py",
   "mimetype": "text/x-python",
   "name": "python",
   "nbconvert_exporter": "python",
   "pygments_lexer": "ipython3",
   "version": "3.6.3"
  }
 },
 "nbformat": 4,
 "nbformat_minor": 2
}
