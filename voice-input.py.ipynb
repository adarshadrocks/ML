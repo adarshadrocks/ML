{
 "cells": [
  {
   "cell_type": "code",
   "execution_count": 7,
   "metadata": {},
   "outputs": [
    {
     "name": "stdout",
     "output_type": "stream",
     "text": [
      "Speak:\n",
      "You said hairy Jackie\n"
     ]
    }
   ],
   "source": [
    "#!/usr/bin/env python3                                                                                \n",
    "\n",
    "import speech_recognition as sr \n",
    "import pyaudio\n",
    "\n",
    "# get audio from the microphone                                                                       \n",
    "r = sr.Recognizer()                                                                                   \n",
    "with sr.Microphone() as source:                                                                       \n",
    "    print(\"Speak:\")                                                                                   \n",
    "    audio = r.listen(source)   \n",
    "\n",
    "try:\n",
    "    print(\"You said \" + r.recognize_google(audio))\n",
    "except sr.UnknownValueError:\n",
    "    print(\"Could not understand audio\")\n",
    "except sr.RequestError as e:\n",
    "    print(\"Could not request results; {0}\".format(e))"
   ]
  },
  {
   "cell_type": "code",
   "execution_count": null,
   "metadata": {},
   "outputs": [],
   "source": []
  }
 ],
 "metadata": {
  "kernelspec": {
   "display_name": "Python 3",
   "language": "python",
   "name": "python3"
  },
  "language_info": {
   "codemirror_mode": {
    "name": "ipython",
    "version": 3
   },
   "file_extension": ".py",
   "mimetype": "text/x-python",
   "name": "python",
   "nbconvert_exporter": "python",
   "pygments_lexer": "ipython3",
   "version": "3.6.3"
  }
 },
 "nbformat": 4,
 "nbformat_minor": 2
}
