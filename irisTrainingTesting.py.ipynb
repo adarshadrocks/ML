{
 "cells": [
  {
   "cell_type": "code",
   "execution_count": 3,
   "metadata": {},
   "outputs": [
    {
     "name": "stdout",
     "output_type": "stream",
     "text": [
      "[2]\n"
     ]
    }
   ],
   "source": [
    "from sklearn.datasets import load_iris\n",
    "import numpy as np\n",
    "from sklearn import tree\n",
    "iris = load_iris()\n",
    "x=[0,50,100]\n",
    "#training the data\n",
    "train_data = np.delete (iris.data,x,axis=0)\n",
    "train_target = np.delete (iris.target,x)\n",
    "#testing the data\n",
    "test_data = iris.data[x]\n",
    "test_target = iris.target[x]\n",
    "#classifier called\n",
    "clf = tree.DecisionTreeClassifier()\n",
    "trained = clf.fit(train_data,train_target)\n",
    "#prediction\n",
    "predicted = trained.predict([[7. , 3.2 , 4.2 , 1.7]])\n",
    "print(predicted)"
   ]
  },
  {
   "cell_type": "code",
   "execution_count": null,
   "metadata": {},
   "outputs": [],
   "source": []
  }
 ],
 "metadata": {
  "kernelspec": {
   "display_name": "Python 3",
   "language": "python",
   "name": "python3"
  },
  "language_info": {
   "codemirror_mode": {
    "name": "ipython",
    "version": 3
   },
   "file_extension": ".py",
   "mimetype": "text/x-python",
   "name": "python",
   "nbconvert_exporter": "python",
   "pygments_lexer": "ipython3",
   "version": "3.6.3"
  }
 },
 "nbformat": 4,
 "nbformat_minor": 2
}
