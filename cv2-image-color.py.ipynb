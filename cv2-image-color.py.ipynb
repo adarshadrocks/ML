{
 "cells": [
  {
   "cell_type": "code",
   "execution_count": 6,
   "metadata": {},
   "outputs": [
    {
     "name": "stdout",
     "output_type": "stream",
     "text": [
      "(175, 263, 3)\n",
      "(720, 1280)\n"
     ]
    }
   ],
   "source": [
    "#!/usr/bin/python3\n",
    "import cv2\n",
    "#reading the image\n",
    "img=cv2.imread(\"cat.jpg\",25)\n",
    "img1=cv2.imread(\"cat1.jpg\",0)\n",
    "#printing the height and width of the image\n",
    "print (img.shape)\n",
    "print (img1.shape)\n",
    "#show or displaying the image\n",
    "cv2.imshow(\"cat.jpg\",img)\n",
    "cv2.imshow(\"cat1.jpg\",img1)\n",
    "#image window holder activate\n",
    "cv2.waitKey(0)\n",
    "#waiting will destroying after pressing q button\n",
    "cv2.destroyAllWindows()"
   ]
  }
 ],
 "metadata": {
  "kernelspec": {
   "display_name": "Python 3",
   "language": "python",
   "name": "python3"
  },
  "language_info": {
   "codemirror_mode": {
    "name": "ipython",
    "version": 3
   },
   "file_extension": ".py",
   "mimetype": "text/x-python",
   "name": "python",
   "nbconvert_exporter": "python",
   "pygments_lexer": "ipython3",
   "version": "3.6.3"
  }
 },
 "nbformat": 4,
 "nbformat_minor": 2
}
