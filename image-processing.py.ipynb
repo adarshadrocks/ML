{
 "cells": [
  {
   "cell_type": "code",
   "execution_count": 2,
   "metadata": {},
   "outputs": [
    {
     "name": "stdout",
     "output_type": "stream",
     "text": [
      "(350, 525)\n",
      "(720, 1280)\n"
     ]
    },
    {
     "data": {
      "text/plain": [
       "True"
      ]
     },
     "execution_count": 2,
     "metadata": {},
     "output_type": "execute_result"
    }
   ],
   "source": [
    "#!/usr/bin/python3\n",
    "import cv2\n",
    "import numpy as np\n",
    "import matplotlib.pyplot as plt\n",
    "#reading the image\n",
    "img=cv2.imread(\"cat.jpg\",cv2.IMREAD_GRAYSCALE)\n",
    "#IMREAD_COLOR = 1\n",
    "#IMREAD_UNCHANGED = -1\n",
    "img1=cv2.imread(\"cat1.jpg\",0)\n",
    "#printing the height and width of the image\n",
    "\n",
    "print (img.shape)\n",
    "print (img1.shape)\n",
    "#show or displaying the image\n",
    "cv2.imshow(\"cat.jpg\",img)\n",
    "cv2.imshow(\"cat1.jpg\",img1)\n",
    "#image window holder activate\n",
    "cv2.waitKey(0)\n",
    "#waiting will destroying after pressing q button\n",
    "cv2.destroyAllWindows()\n",
    "'''\n",
    "plt.imshow(img, cmap='gray' ,interpolation='bicubic')\n",
    "plt.plot([50,100],[80,100],'c',linewidth=5)\n",
    "plt.show()\n",
    "'''\n",
    "cv2.imwrite('cat.jpg',img)"
   ]
  },
  {
   "cell_type": "code",
   "execution_count": 3,
   "metadata": {},
   "outputs": [],
   "source": [
    "img1=cv2.imread(\"cat.jpg\")\n",
    "#collect a small part from image\n",
    "face=img1[153:202,278:342]\n",
    "#add the small part in image\n",
    "img1[194:243,226:290]=face\n",
    "\n",
    "cv2.imshow(\"Image3\",img1)\n",
    "cv2.waitKey(0)\n",
    "cv2.destroyAllWindows()"
   ]
  },
  {
   "cell_type": "code",
   "execution_count": 7,
   "metadata": {},
   "outputs": [
    {
     "ename": "TypeError",
     "evalue": "Required argument 'gamma' (pos 5) not found",
     "output_type": "error",
     "traceback": [
      "\u001b[0;31m---------------------------------------------------------------------------\u001b[0m",
      "\u001b[0;31mTypeError\u001b[0m                                 Traceback (most recent call last)",
      "\u001b[0;32m<ipython-input-7-0f359e2521b7>\u001b[0m in \u001b[0;36m<module>\u001b[0;34m()\u001b[0m\n\u001b[1;32m      5\u001b[0m \u001b[0;34m\u001b[0m\u001b[0m\n\u001b[1;32m      6\u001b[0m \u001b[0;31m#merge two image in one with diffrent density\u001b[0m\u001b[0;34m\u001b[0m\u001b[0;34m\u001b[0m\u001b[0m\n\u001b[0;32m----> 7\u001b[0;31m \u001b[0mimg3\u001b[0m\u001b[0;34m=\u001b[0m\u001b[0mcv2\u001b[0m\u001b[0;34m.\u001b[0m\u001b[0maddWeighted\u001b[0m\u001b[0;34m(\u001b[0m\u001b[0mimg1\u001b[0m\u001b[0;34m,\u001b[0m\u001b[0;36m0.1\u001b[0m\u001b[0;34m,\u001b[0m\u001b[0mimg2\u001b[0m\u001b[0;34m,\u001b[0m\u001b[0;36m0.1\u001b[0m\u001b[0;34m)\u001b[0m\u001b[0;34m\u001b[0m\u001b[0m\n\u001b[0m\u001b[1;32m      8\u001b[0m \u001b[0;34m\u001b[0m\u001b[0m\n\u001b[1;32m      9\u001b[0m \u001b[0mcv2\u001b[0m\u001b[0;34m.\u001b[0m\u001b[0mimshow\u001b[0m\u001b[0;34m(\u001b[0m\u001b[0;34m\"Image3\"\u001b[0m\u001b[0;34m,\u001b[0m\u001b[0mimg3\u001b[0m\u001b[0;34m)\u001b[0m\u001b[0;34m\u001b[0m\u001b[0m\n",
      "\u001b[0;31mTypeError\u001b[0m: Required argument 'gamma' (pos 5) not found"
     ]
    }
   ],
   "source": [
    "img1=cv2.imread(\"cat.jpg\")\n",
    "img2=cv2.imread(\"cat1.jpg\")\n",
    "img1=[255,255,255]\n",
    "img2=[255,255,255]\n",
    "\n",
    "#merge two image in one with diffrent density\n",
    "img3=cv2.addWeighted(img1,0.1,img2,0.1)\n",
    "\n",
    "cv2.imshow(\"Image3\",img3)\n",
    "cv2.waitKey(0)\n",
    "cv2.destroyAllWindows()"
   ]
  },
  {
   "cell_type": "code",
   "execution_count": 8,
   "metadata": {},
   "outputs": [],
   "source": [
    "img1=cv2.imread(\"cat.jpg\")\n",
    "#collect a small part from image\n",
    "face=img1[153:202,278:342]\n",
    "#add the small part in image\n",
    "img1[194:243,226:290]=[0,0,0]\n",
    "\n",
    "cv2.imshow(\"Image3\",img1)\n",
    "cv2.waitKey(0)\n",
    "cv2.destroyAllWindows()"
   ]
  }
 ],
 "metadata": {
  "kernelspec": {
   "display_name": "Python 3",
   "language": "python",
   "name": "python3"
  },
  "language_info": {
   "codemirror_mode": {
    "name": "ipython",
    "version": 3
   },
   "file_extension": ".py",
   "mimetype": "text/x-python",
   "name": "python",
   "nbconvert_exporter": "python",
   "pygments_lexer": "ipython3",
   "version": "3.6.3"
  }
 },
 "nbformat": 4,
 "nbformat_minor": 2
}
