{
 "cells": [
  {
   "cell_type": "code",
   "execution_count": 12,
   "metadata": {},
   "outputs": [
    {
     "name": "stderr",
     "output_type": "stream",
     "text": [
      "No handles with labels found to put in legend.\n"
     ]
    },
    {
     "name": "stdout",
     "output_type": "stream",
     "text": [
      "[0 1 2 2 2 0 1 0 2 2 2 2 2 0 2 0 1 0 2 1 0 2 2 0 0 0 2 1 1 0]\n",
      "[0 1 2 2 2 0 1 0 2 2 2 2 2 0 2 0 1 0 2 1 0 2 2 0 0 0 2 1 1 0]\n",
      "0.9666666666666667\n",
      "0.9666666666666667\n"
     ]
    },
    {
     "data": {
      "text/plain": [
       "<matplotlib.legend.Legend at 0x7f0554cdf2b0>"
      ]
     },
     "execution_count": 12,
     "metadata": {},
     "output_type": "execute_result"
    },
    {
     "data": {
      "image/png": "[encoded data removed]",
      "text/plain": [
       "<Figure size 432x288 with 1 Axes>"
      ]
     },
     "metadata": {},
     "output_type": "display_data"
    }
   ],
   "source": [
    "from sklearn.datasets import load_iris\n",
    "from sklearn.model_selection import train_test_split\n",
    "from sklearn.neighbors import KNeighborsClassifier\n",
    "from sklearn.tree import DecisionTreeClassifier \n",
    "from sklearn import tree\n",
    "\n",
    "#load iris\n",
    "iris=load_iris()\n",
    "#spilitting the data\n",
    "train_data,test_data,train_target,test_target=train_test_split(iris.data,iris.target,test_size=0.2)\n",
    "#knn classifier called\n",
    "knn=KNeighborsClassifier(n_neighbors=3)\n",
    "#clf classifier called\n",
    "clf=tree.DecisionTreeClassifier()\n",
    "#training of knn and clf\n",
    "trainedknn=knn.fit(train_data,train_target)\n",
    "trainedclf=clf.fit(train_data,train_target)\n",
    "#prediction of both algo\n",
    "predictknn=trainedknn.predict(test_data)\n",
    "predictclf=trainedclf.predict(test_data)\n",
    "#printing the both prediction\n",
    "print(predictknn)\n",
    "print(predictclf)\n",
    "#accuracy test\n",
    "from sklearn.metrics import accuracy_score\n",
    "accknn=accuracy_score(predictknn,test_target)\n",
    "accclf=accuracy_score(predictclf,test_target)\n",
    "#printing accuracy\n",
    "print(accknn)\n",
    "print(accclf)\n",
    "#plotting the graph\n",
    "import matplotlib.pyplot as plt\n",
    "y1=[accknn,accclf]\n",
    "x1=[\"knn\",\"dclf\"]\n",
    "plt.xlabel(\"Different classifiers\")\n",
    "plt.ylabel(\"Accuracy\")\n",
    "plt.grid(color=\"red\")\n",
    "plt.title(\"graph between two algo knn and tree classifier\")\n",
    "plt.bar(x1,y1)\n",
    "plt.legend()"
   ]
  }
 ],
 "metadata": {
  "kernelspec": {
   "display_name": "Python 3",
   "language": "python",
   "name": "python3"
  },
  "language_info": {
   "codemirror_mode": {
    "name": "ipython",
    "version": 3
   },
   "file_extension": ".py",
   "mimetype": "text/x-python",
   "name": "python",
   "nbconvert_exporter": "python",
   "pygments_lexer": "ipython3",
   "version": "3.6.3"
  }
 },
 "nbformat": 4,
 "nbformat_minor": 2
}
